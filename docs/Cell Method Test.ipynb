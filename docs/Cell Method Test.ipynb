{
 "metadata": {
  "name": "",
  "signature": "sha256:97c8891ed62bb9be1e65bdd3e4d917132b5279ce373a09036d1b813247a210fd"
 },
 "nbformat": 3,
 "nbformat_minor": 0,
 "worksheets": [
  {
   "cells": [
    {
     "cell_type": "code",
     "collapsed": false,
     "input": [
      "%run tabipy.py"
     ],
     "language": "python",
     "metadata": {},
     "outputs": [],
     "prompt_number": 1
    },
    {
     "cell_type": "code",
     "collapsed": false,
     "input": [
      "t = Table((1,2,3),\n",
      "          (4,5,6),\n",
      "          (7,8,9))\n",
      "t"
     ],
     "language": "python",
     "metadata": {},
     "outputs": [
      {
       "html": [
        "<table>\n",
        "<tr><td  >1</td><td  >2</td><td  >3</td></tr>\n",
        "<tr><td  >4</td><td  >5</td><td  >6</td></tr>\n",
        "<tr><td  >7</td><td  >8</td><td  >9</td></tr>\n",
        "</table>"
       ],
       "latex": [
        "\\begin{tabular}{*{3}{l}}\n",
        "1 & 2 & 3\\\\\n",
        "\n",
        "4 & 5 & 6\\\\\n",
        "\n",
        "7 & 8 & 9\\\\\n",
        "\\end{tabular}"
       ],
       "metadata": {},
       "output_type": "pyout",
       "prompt_number": 2,
       "text": [
        "<__main__.Table at 0x7f572c1ad0b8>"
       ]
      }
     ],
     "prompt_number": 2
    },
    {
     "cell_type": "code",
     "collapsed": false,
     "input": [
      "t.cell((1,1), col_span = 2)\n",
      "t"
     ],
     "language": "python",
     "metadata": {},
     "outputs": [
      {
       "html": [
        "<table>\n",
        "<tr><td colspan=\"2\"  >1</td><td  >3</td></tr>\n",
        "<tr><td  >4</td><td  >5</td><td  >6</td></tr>\n",
        "<tr><td  >7</td><td  >8</td><td  >9</td></tr>\n",
        "</table>"
       ],
       "latex": [
        "\\begin{tabular}{*{3}{l}}\n",
        "\\multicolumn{2}{l}{1} & 3\\\\\n",
        "\n",
        "4 & 5 & 6\\\\\n",
        "\n",
        "7 & 8 & 9\\\\\n",
        "\\end{tabular}"
       ],
       "metadata": {},
       "output_type": "pyout",
       "prompt_number": 3,
       "text": [
        "<__main__.Table at 0x7f572c1ad0b8>"
       ]
      }
     ],
     "prompt_number": 3
    },
    {
     "cell_type": "code",
     "collapsed": false,
     "input": [
      "t.cell((1,1))"
     ],
     "language": "python",
     "metadata": {},
     "outputs": [
      {
       "output_type": "stream",
       "stream": "stdout",
       "text": [
        "value = 1,\n",
        "header = False,\n",
        "bg_colour = None,\n",
        "text_colour = None,\n",
        "col_span = 2,\n",
        "\n"
       ]
      }
     ],
     "prompt_number": 4
    },
    {
     "cell_type": "code",
     "collapsed": false,
     "input": [],
     "language": "python",
     "metadata": {},
     "outputs": []
    }
   ],
   "metadata": {}
  }
 ]
}