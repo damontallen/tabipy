{
 "cells": [
  {
   "cell_type": "code",
   "execution_count": 1,
   "metadata": {
    "collapsed": true
   },
   "outputs": [],
   "source": [
    "from tabipy import Table"
   ]
  },
  {
   "cell_type": "code",
   "execution_count": 2,
   "metadata": {
    "collapsed": false
   },
   "outputs": [
    {
     "data": {
      "text/html": [
       "<table>\n",
       "<tr><td  style=\"text-align:left\">This is cell 1</td><td  style=\"text-align:left\">This is cell 2</td><td  style=\"text-align:left\">3</td></tr>\n",
       "<tr><td  style=\"text-align:left\">4</td><td  style=\"text-align:left\">5</td><td  style=\"text-align:left\">This is cell 6</td></tr>\n",
       "<tr><td  style=\"text-align:left\">7</td><td  style=\"text-align:left\">This is a long cell 8</td><td  style=\"text-align:left\">9</td></tr>\n",
       "</table>"
      ],
      "text/latex": [
       "\\begin{tabular}{*{3}{l}}\n",
       "This is cell 1 & This is cell 2 & 3\\\\\n",
       "4 & 5 & This is cell 6\\\\\n",
       "7 & This is a long cell 8 & 9\\\\\n",
       "\\end{tabular}"
      ],
      "text/plain": [
       "<tabipy.Table at 0x7fe9b4e467b8>"
      ]
     },
     "execution_count": 2,
     "metadata": {},
     "output_type": "execute_result"
    }
   ],
   "source": [
    "t = Table(['This is cell 1','This is cell 2',3],\n",
    "          [4,5,'This is cell 6'],\n",
    "          [7,'This is a long cell 8',9])\n",
    "t"
   ]
  },
  {
   "cell_type": "code",
   "execution_count": 3,
   "metadata": {
    "collapsed": false
   },
   "outputs": [
    {
     "data": {
      "text/html": [
       "<table>\n",
       "<tr><td  style=\"text-align:center\">This is cell 1</td><td  style=\"text-align:center\">This is cell 2</td><td  style=\"text-align:center\">3</td></tr>\n",
       "<tr><td  style=\"text-align:center\">4</td><td  style=\"text-align:center\">5</td><td  style=\"text-align:center\">This is cell 6</td></tr>\n",
       "<tr><td  style=\"text-align:center\">7</td><td  style=\"text-align:center\">This is a long cell 8</td><td  style=\"text-align:center\">9</td></tr>\n",
       "</table>"
      ],
      "text/latex": [
       "\\begin{tabular}{*{3}{c}}\n",
       "This is cell 1 & This is cell 2 & 3\\\\\n",
       "4 & 5 & This is cell 6\\\\\n",
       "7 & This is a long cell 8 & 9\\\\\n",
       "\\end{tabular}"
      ],
      "text/plain": [
       "<tabipy.Table at 0x7fe9b4e467b8>"
      ]
     },
     "execution_count": 3,
     "metadata": {},
     "output_type": "execute_result"
    }
   ],
   "source": [
    "t.align.center()\n",
    "t"
   ]
  },
  {
   "cell_type": "code",
   "execution_count": 4,
   "metadata": {
    "collapsed": false
   },
   "outputs": [
    {
     "data": {
      "text/html": [
       "<table>\n",
       "<tr><td  style=\"text-align:right\">This is cell 1</td><td  style=\"text-align:right\">This is cell 2</td><td  style=\"text-align:right\">3</td></tr>\n",
       "<tr><td  style=\"text-align:right\">4</td><td  style=\"text-align:right\">5</td><td  style=\"text-align:right\">This is cell 6</td></tr>\n",
       "<tr><td  style=\"text-align:right\">7</td><td  style=\"text-align:right\">This is a long cell 8</td><td  style=\"text-align:right\">9</td></tr>\n",
       "</table>"
      ],
      "text/latex": [
       "\\begin{tabular}{*{3}{r}}\n",
       "This is cell 1 & This is cell 2 & 3\\\\\n",
       "4 & 5 & This is cell 6\\\\\n",
       "7 & This is a long cell 8 & 9\\\\\n",
       "\\end{tabular}"
      ],
      "text/plain": [
       "<tabipy.Table at 0x7fe9b4e467b8>"
      ]
     },
     "execution_count": 4,
     "metadata": {},
     "output_type": "execute_result"
    }
   ],
   "source": [
    "t.align.right()\n",
    "t"
   ]
  },
  {
   "cell_type": "code",
   "execution_count": 5,
   "metadata": {
    "collapsed": false
   },
   "outputs": [
    {
     "data": {
      "text/html": [
       "<table>\n",
       "<tr><td  style=\"text-align:right\">This is cell 1</td><td  style=\"text-align:right\">This is cell 2</td><td  style=\"text-align:right\">3</td></tr>\n",
       "<tr><td  style=\"text-align:right\">4</td><td  style=\"text-align:center\">5</td><td  style=\"text-align:right\">This is cell 6</td></tr>\n",
       "<tr><td  style=\"text-align:right\">7</td><td  style=\"text-align:right\">This is a long cell 8</td><td  style=\"text-align:right\">9</td></tr>\n",
       "</table>"
      ],
      "text/latex": [
       "\\begin{tabular}{*{3}{r}}\n",
       "This is cell 1 & This is cell 2 & 3\\\\\n",
       "4 & \\multicolumn{1}{c}{5} & This is cell 6\\\\\n",
       "7 & This is a long cell 8 & 9\\\\\n",
       "\\end{tabular}"
      ],
      "text/plain": [
       "<tabipy.Table at 0x7fe9b4e467b8>"
      ]
     },
     "execution_count": 5,
     "metadata": {},
     "output_type": "execute_result"
    }
   ],
   "source": [
    "t.cell(1,1).align.center()\n",
    "t"
   ]
  },
  {
   "cell_type": "code",
   "execution_count": 6,
   "metadata": {
    "collapsed": false
   },
   "outputs": [
    {
     "name": "stdout",
     "output_type": "stream",
     "text": [
      "TableCell(5, align='Center')\n"
     ]
    }
   ],
   "source": [
    "t.cell(1,1).properties()"
   ]
  },
  {
   "cell_type": "code",
   "execution_count": 7,
   "metadata": {
    "collapsed": false
   },
   "outputs": [
    {
     "data": {
      "text/html": [
       "<table>\n",
       "<tr><td  style=\"text-align:right\">This is cell 1</td><td  style=\"text-align:right\">This is cell 2</td><td  style=\"text-align:right\">3</td></tr>\n",
       "<tr><td  style=\"text-align:center\">4</td><td  style=\"text-align:center\">5</td><td  style=\"text-align:right\">This is cell 6</td></tr>\n",
       "<tr><td  style=\"text-align:right\">7</td><td  style=\"text-align:right\">This is a long cell 8</td><td  style=\"text-align:right\">9</td></tr>\n",
       "</table>"
      ],
      "text/latex": [
       "\\begin{tabular}{*{3}{r}}\n",
       "This is cell 1 & This is cell 2 & 3\\\\\n",
       "\\multicolumn{1}{c}{4} & \\multicolumn{1}{c}{5} & This is cell 6\\\\\n",
       "7 & This is a long cell 8 & 9\\\\\n",
       "\\end{tabular}"
      ],
      "text/plain": [
       "<tabipy.Table at 0x7fe9b4e467b8>"
      ]
     },
     "execution_count": 7,
     "metadata": {},
     "output_type": "execute_result"
    }
   ],
   "source": [
    "t.cell(1,0).align.center()\n",
    "t"
   ]
  }
 ],
 "metadata": {
  "kernelspec": {
   "display_name": "Python 3",
   "language": "python",
   "name": "python3"
  },
  "language_info": {
   "codemirror_mode": {
    "name": "ipython",
    "version": 3
   },
   "file_extension": ".py",
   "mimetype": "text/x-python",
   "name": "python",
   "nbconvert_exporter": "python",
   "pygments_lexer": "ipython3",
   "version": "3.4.0"
  }
 },
 "nbformat": 4,
 "nbformat_minor": 0
}
