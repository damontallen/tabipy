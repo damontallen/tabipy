{
 "metadata": {
  "name": "IPyTables"
 },
 "nbformat": 3,
 "nbformat_minor": 0,
 "worksheets": [
  {
   "cells": [
    {
     "cell_type": "code",
     "collapsed": false,
     "input": [
      "from ipytables import Table, TableRow, TableCell, TableHeaderRow"
     ],
     "language": "python",
     "metadata": {},
     "outputs": [],
     "prompt_number": 1
    },
    {
     "cell_type": "code",
     "collapsed": false,
     "input": [
      "# The simple case is easy\n",
      "Table((4, 1, 8),\n",
      "      (9, 7, 3),\n",
      "      (5, 2, 6))"
     ],
     "language": "python",
     "metadata": {},
     "outputs": [
      {
       "html": [
        "<table>\n",
        "<tr><td >4</td><td >1</td><td >8</td></tr>\n",
        "<tr><td >9</td><td >7</td><td >3</td></tr>\n",
        "<tr><td >5</td><td >2</td><td >6</td></tr>\n",
        "</table>"
       ],
       "output_type": "pyout",
       "prompt_number": 2,
       "text": [
        "<ipytables.Table at 0xaa4092c>"
       ]
      }
     ],
     "prompt_number": 2
    },
    {
     "cell_type": "code",
     "collapsed": false,
     "input": [
      "# With a header\n",
      "Table(TableHeaderRow('a','b','c'),\n",
      "      (1,  2,  3),\n",
      "      (2,  4,  6),\n",
      "     )"
     ],
     "language": "python",
     "metadata": {},
     "outputs": [
      {
       "html": [
        "<table>\n",
        "<tr><th >a</th><th >b</th><th >c</th></tr>\n",
        "<tr><td >1</td><td >2</td><td >3</td></tr>\n",
        "<tr><td >2</td><td >4</td><td >6</td></tr>\n",
        "</table>"
       ],
       "output_type": "pyout",
       "prompt_number": 3,
       "text": [
        "<ipytables.Table at 0xaa49a6c>"
       ]
      }
     ],
     "prompt_number": 3
    },
    {
     "cell_type": "code",
     "collapsed": false,
     "input": [
      "# Computing values\n",
      "t = Table(TableHeaderRow('number', 'square', 'cube'))\n",
      "for x in range(1, 11):\n",
      "    t.append_row((x, x**2, x**3))\n",
      "t"
     ],
     "language": "python",
     "metadata": {},
     "outputs": [
      {
       "html": [
        "<table>\n",
        "<tr><th >number</th><th >square</th><th >cube</th></tr>\n",
        "<tr><td >1</td><td >1</td><td >1</td></tr>\n",
        "<tr><td >2</td><td >4</td><td >8</td></tr>\n",
        "<tr><td >3</td><td >9</td><td >27</td></tr>\n",
        "<tr><td >4</td><td >16</td><td >64</td></tr>\n",
        "<tr><td >5</td><td >25</td><td >125</td></tr>\n",
        "<tr><td >6</td><td >36</td><td >216</td></tr>\n",
        "<tr><td >7</td><td >49</td><td >343</td></tr>\n",
        "<tr><td >8</td><td >64</td><td >512</td></tr>\n",
        "<tr><td >9</td><td >81</td><td >729</td></tr>\n",
        "<tr><td >10</td><td >100</td><td >1000</td></tr>\n",
        "</table>"
       ],
       "output_type": "pyout",
       "prompt_number": 4,
       "text": [
        "<ipytables.Table at 0xa9c32cc>"
       ]
      }
     ],
     "prompt_number": 4
    },
    {
     "cell_type": "code",
     "collapsed": false,
     "input": [
      "# Styling determined by code\n",
      "t = Table(TableHeaderRow('divisions', 'result'))\n",
      "num = 55\n",
      "for x in range(7):\n",
      "    if num < 1:\n",
      "        resultcell = TableCell(num, bg_colour='DarkBlue', text_colour='white')\n",
      "    else:\n",
      "        resultcell = TableCell(num)\n",
      "    t.append_row((x, resultcell))\n",
      "    num /= 3\n",
      "t"
     ],
     "language": "python",
     "metadata": {},
     "outputs": [
      {
       "html": [
        "<table>\n",
        "<tr><th >divisions</th><th >result</th></tr>\n",
        "<tr><td >0</td><td >55</td></tr>\n",
        "<tr><td >1</td><td >18.333333333333332</td></tr>\n",
        "<tr><td >2</td><td >6.111111111111111</td></tr>\n",
        "<tr><td >3</td><td >2.0370370370370368</td></tr>\n",
        "<tr><td >4</td><td style=\"background-color:DarkBlue; color:white\">0.6790123456790123</td></tr>\n",
        "<tr><td >5</td><td style=\"background-color:DarkBlue; color:white\">0.22633744855967075</td></tr>\n",
        "<tr><td >6</td><td style=\"background-color:DarkBlue; color:white\">0.07544581618655692</td></tr>\n",
        "</table>"
       ],
       "output_type": "pyout",
       "prompt_number": 5,
       "text": [
        "<ipytables.Table at 0xaa4dacc>"
       ]
      }
     ],
     "prompt_number": 5
    },
    {
     "cell_type": "code",
     "collapsed": false,
     "input": [],
     "language": "python",
     "metadata": {},
     "outputs": []
    }
   ],
   "metadata": {}
  }
 ]
}