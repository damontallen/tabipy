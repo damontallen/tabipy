{
 "metadata": {
  "name": "",
  "signature": "sha256:b161bc6a886725d1c8e34dea3706b64faf18a302eaac415198d57c9fc83e0393"
 },
 "nbformat": 3,
 "nbformat_minor": 0,
 "worksheets": [
  {
   "cells": [
    {
     "cell_type": "code",
     "collapsed": false,
     "input": [
      "%run tabipy.py"
     ],
     "language": "python",
     "metadata": {},
     "outputs": [],
     "prompt_number": 1
    },
    {
     "cell_type": "code",
     "collapsed": false,
     "input": [
      "t = Table((1,2,3),\n",
      "          (4,5,6),\n",
      "          (7,8,9))\n",
      "t"
     ],
     "language": "python",
     "metadata": {},
     "outputs": [
      {
       "html": [
        "<table>\n",
        "<tr><td  >1</td><td  >2</td><td  >3</td></tr>\n",
        "<tr><td  >4</td><td  >5</td><td  >6</td></tr>\n",
        "<tr><td  >7</td><td  >8</td><td  >9</td></tr>\n",
        "</table>"
       ],
       "latex": [
        "\\begin{tabular}{*{3}{l}}\n",
        "1 & 2 & 3\\\\\n",
        "\n",
        "4 & 5 & 6\\\\\n",
        "\n",
        "7 & 8 & 9\\\\\n",
        "\\end{tabular}"
       ],
       "metadata": {},
       "output_type": "pyout",
       "prompt_number": 2,
       "text": [
        "<__main__.Table at 0x7f3da42560b8>"
       ]
      }
     ],
     "prompt_number": 2
    },
    {
     "cell_type": "code",
     "collapsed": false,
     "input": [
      "cell_1_1 = t.rows[0].cells[0]\n",
      "cell_1_1.col_span = 2"
     ],
     "language": "python",
     "metadata": {},
     "outputs": [],
     "prompt_number": 3
    },
    {
     "cell_type": "code",
     "collapsed": false,
     "input": [
      "t"
     ],
     "language": "python",
     "metadata": {},
     "outputs": [
      {
       "html": [
        "<table>\n",
        "<tr><td colspan=\"2\"  >1</td><td  >3</td></tr>\n",
        "<tr><td  >4</td><td  >5</td><td  >6</td></tr>\n",
        "<tr><td  >7</td><td  >8</td><td  >9</td></tr>\n",
        "</table>"
       ],
       "latex": [
        "\\begin{tabular}{*{3}{l}}\n",
        "\\multicolumn{2}{l}{1} & 3\\\\\n",
        "\n",
        "4 & 5 & 6\\\\\n",
        "\n",
        "7 & 8 & 9\\\\\n",
        "\\end{tabular}"
       ],
       "metadata": {},
       "output_type": "pyout",
       "prompt_number": 4,
       "text": [
        "<__main__.Table at 0x7f3da42560b8>"
       ]
      }
     ],
     "prompt_number": 4
    },
    {
     "cell_type": "code",
     "collapsed": false,
     "input": [
      "t1_html = t._repr_html_()\n",
      "print(t1_html)\n",
      "t1_html"
     ],
     "language": "python",
     "metadata": {},
     "outputs": [
      {
       "output_type": "stream",
       "stream": "stdout",
       "text": [
        "<table>\n",
        "<tr><td colspan=\"2\"  >1</td><td  >3</td></tr>\n",
        "<tr><td  >4</td><td  >5</td><td  >6</td></tr>\n",
        "<tr><td  >7</td><td  >8</td><td  >9</td></tr>\n",
        "</table>\n"
       ]
      },
      {
       "metadata": {},
       "output_type": "pyout",
       "prompt_number": 5,
       "text": [
        "'<table>\\n<tr><td colspan=\"2\"  >1</td><td  >3</td></tr>\\n<tr><td  >4</td><td  >5</td><td  >6</td></tr>\\n<tr><td  >7</td><td  >8</td><td  >9</td></tr>\\n</table>'"
       ]
      }
     ],
     "prompt_number": 5
    },
    {
     "cell_type": "code",
     "collapsed": false,
     "input": [
      "t1_latex = t._repr_latex_()\n",
      "print(t1_latex)"
     ],
     "language": "python",
     "metadata": {},
     "outputs": [
      {
       "output_type": "stream",
       "stream": "stdout",
       "text": [
        "\\begin{tabular}{*{3}{l}}\n",
        "\\multicolumn{2}{l}{1} & 3\\\\\n",
        "\n",
        "4 & 5 & 6\\\\\n",
        "\n",
        "7 & 8 & 9\\\\\n",
        "\\end{tabular}\n"
       ]
      }
     ],
     "prompt_number": 6
    },
    {
     "cell_type": "code",
     "collapsed": false,
     "input": [
      "t1_latex"
     ],
     "language": "python",
     "metadata": {},
     "outputs": [
      {
       "metadata": {},
       "output_type": "pyout",
       "prompt_number": 7,
       "text": [
        "'\\\\begin{tabular}{*{3}{l}}\\n\\\\multicolumn{2}{l}{1} & 3\\\\\\\\\\n\\n4 & 5 & 6\\\\\\\\\\n\\n7 & 8 & 9\\\\\\\\\\n\\\\end{tabular}'"
       ]
      }
     ],
     "prompt_number": 7
    },
    {
     "cell_type": "code",
     "collapsed": false,
     "input": [
      "t = Table((TableCell(1,col_span=2),2,3),\n",
      "          (4,5,6,7),\n",
      "          (8,9,10,11))\n",
      "t"
     ],
     "language": "python",
     "metadata": {},
     "outputs": [
      {
       "html": [
        "<table>\n",
        "<tr><td colspan=\"2\"  >1</td><td  >2</td><td  >3</td></tr>\n",
        "<tr><td  >4</td><td  >5</td><td  >6</td><td  >7</td></tr>\n",
        "<tr><td  >8</td><td  >9</td><td  >10</td><td  >11</td></tr>\n",
        "</table>"
       ],
       "latex": [
        "\\begin{tabular}{*{4}{l}}\n",
        "\\multicolumn{2}{l}{1} & 2 & 3\\\\\n",
        "\n",
        "4 & 5 & 6 & 7\\\\\n",
        "\n",
        "8 & 9 & 10 & 11\\\\\n",
        "\\end{tabular}"
       ],
       "metadata": {},
       "output_type": "pyout",
       "prompt_number": 8,
       "text": [
        "<__main__.Table at 0x7f3da4256b38>"
       ]
      }
     ],
     "prompt_number": 8
    },
    {
     "cell_type": "code",
     "collapsed": false,
     "input": [
      "print(t._repr_latex_())"
     ],
     "language": "python",
     "metadata": {},
     "outputs": [
      {
       "output_type": "stream",
       "stream": "stdout",
       "text": [
        "\\begin{tabular}{*{4}{l}}\n",
        "\\multicolumn{2}{l}{1} & 2 & 3\\\\\n",
        "\n",
        "4 & 5 & 6 & 7\\\\\n",
        "\n",
        "8 & 9 & 10 & 11\\\\\n",
        "\\end{tabular}\n"
       ]
      }
     ],
     "prompt_number": 9
    },
    {
     "cell_type": "code",
     "collapsed": false,
     "input": [
      "r1 = t.rows[0]\n",
      "c1 = r1.cells[0]\n",
      "c1.col_span=1"
     ],
     "language": "python",
     "metadata": {},
     "outputs": [],
     "prompt_number": 10
    },
    {
     "cell_type": "code",
     "collapsed": false,
     "input": [
      "t"
     ],
     "language": "python",
     "metadata": {},
     "outputs": [
      {
       "html": [
        "<table>\n",
        "<tr><td  >1</td><td  ></td><td  >2</td><td  >3</td></tr>\n",
        "<tr><td  >4</td><td  >5</td><td  >6</td><td  >7</td></tr>\n",
        "<tr><td  >8</td><td  >9</td><td  >10</td><td  >11</td></tr>\n",
        "</table>"
       ],
       "latex": [
        "\\begin{tabular}{*{4}{l}}\n",
        "1 &  & 2 & 3\\\\\n",
        "\n",
        "4 & 5 & 6 & 7\\\\\n",
        "\n",
        "8 & 9 & 10 & 11\\\\\n",
        "\\end{tabular}"
       ],
       "metadata": {},
       "output_type": "pyout",
       "prompt_number": 11,
       "text": [
        "<__main__.Table at 0x7f3da4256b38>"
       ]
      }
     ],
     "prompt_number": 11
    },
    {
     "cell_type": "code",
     "collapsed": false,
     "input": [
      "print(t._repr_html_())"
     ],
     "language": "python",
     "metadata": {},
     "outputs": [
      {
       "output_type": "stream",
       "stream": "stdout",
       "text": [
        "<table>\n",
        "<tr><td  >1</td><td  ></td><td  >2</td><td  >3</td></tr>\n",
        "<tr><td  >4</td><td  >5</td><td  >6</td><td  >7</td></tr>\n",
        "<tr><td  >8</td><td  >9</td><td  >10</td><td  >11</td></tr>\n",
        "</table>\n"
       ]
      }
     ],
     "prompt_number": 12
    },
    {
     "cell_type": "heading",
     "level": 1,
     "metadata": {},
     "source": [
      "Automated Tests"
     ]
    },
    {
     "cell_type": "code",
     "collapsed": false,
     "input": [
      "import re\n",
      "\n",
      "def col_span_table():\n",
      "    t = Table((1,2,3),\n",
      "      (4,5,6),\n",
      "      (7,8,9))\n",
      "    cell_1_1 = t.rows[0].cells[0]\n",
      "    cell_1_1.col_span = 2\n",
      "    return t\n",
      "\n",
      "def test_col_span_html():\n",
      "    \"This test col_span works in html\"\n",
      "    t = col_span_table()\n",
      "    t1_html = t._repr_html_()\n",
      "    row_split = re.compile('<\\s*tr\\s*>')\n",
      "    lines = row_split.split(t1_html)\n",
      "    assert len(lines)==4\n",
      "    col_split = re.compile('>[\\s\\d\\s]*<')\n",
      "    parts = col_split.split(lines[1])\n",
      "    cl_check = re.compile('colspan\\s*=\\s*\"\\s*2\\s*\"')\n",
      "    assert len(cl_check.findall(parts[0]))>0\n",
      "    #print(\"pass\")\n",
      "\n",
      "def test_col_span_latex():\n",
      "    \"This test col_span works in latex\"\n",
      "    t = col_span_table()    \n",
      "    t1_latex = t._repr_latex_()\n",
      "    row_split = re.compile(r'\\\\\\\\')\n",
      "    lines = row_split.split(t1_latex)\n",
      "    assert len(lines)==4\n",
      "    col_split = re.compile('&')\n",
      "    parts = col_split.split(lines[0])\n",
      "    cl_check = re.compile('\\w*\\\\multicolumn\\s*\\{\\s*2\\s*}')\n",
      "    assert len(cl_check.findall(parts[0]))>0\n",
      "    #print(\"pass\")\n",
      "    \n",
      "test_col_span_html()\n",
      "test_col_span_latex()"
     ],
     "language": "python",
     "metadata": {},
     "outputs": [],
     "prompt_number": 13
    }
   ],
   "metadata": {}
  }
 ]
}