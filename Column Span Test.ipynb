{
 "metadata": {
  "name": "",
  "signature": "sha256:49cfd77cb3ec5d2e2d9c9173df25cba0d69bbc4ee38aa49e6a10defdf5aea68e"
 },
 "nbformat": 3,
 "nbformat_minor": 0,
 "worksheets": [
  {
   "cells": [
    {
     "cell_type": "code",
     "collapsed": false,
     "input": [
      "%run tabipy.py"
     ],
     "language": "python",
     "metadata": {},
     "outputs": [],
     "prompt_number": 1
    },
    {
     "cell_type": "code",
     "collapsed": false,
     "input": [
      "t = Table((1,2,3),\n",
      "          (4,5,6),\n",
      "          (7,8,9))\n",
      "t"
     ],
     "language": "python",
     "metadata": {},
     "outputs": [
      {
       "html": [
        "<table>\n",
        "<tr><td  >1</td><td  >2</td><td  >3</td></tr>\n",
        "<tr><td  >4</td><td  >5</td><td  >6</td></tr>\n",
        "<tr><td  >7</td><td  >8</td><td  >9</td></tr>\n",
        "</table>"
       ],
       "latex": [
        "\\begin{tabular}{*{3}{l}}\n",
        "\\multicolumn{1}{l}{1} & \\multicolumn{1}{l}{2} & \\multicolumn{1}{l}{3}\\\\\n",
        "\n",
        "\\multicolumn{1}{l}{4} & \\multicolumn{1}{l}{5} & \\multicolumn{1}{l}{6}\\\\\n",
        "\n",
        "\\multicolumn{1}{l}{7} & \\multicolumn{1}{l}{8} & \\multicolumn{1}{l}{9}\\\\\n",
        "\\end{tabular}"
       ],
       "metadata": {},
       "output_type": "pyout",
       "prompt_number": 2,
       "text": [
        "<__main__.Table at 0x7fdd0459beb8>"
       ]
      }
     ],
     "prompt_number": 2
    },
    {
     "cell_type": "code",
     "collapsed": false,
     "input": [
      "cell_1_1 = t.rows[0].cells[0]\n",
      "cell_1_1.col_span = 2"
     ],
     "language": "python",
     "metadata": {},
     "outputs": [],
     "prompt_number": 3
    },
    {
     "cell_type": "code",
     "collapsed": false,
     "input": [
      "t"
     ],
     "language": "python",
     "metadata": {},
     "outputs": [
      {
       "html": [
        "<table>\n",
        "<tr><td colspan=\"2\"  >1</td><td  >3</td></tr>\n",
        "<tr><td  >4</td><td  >5</td><td  >6</td></tr>\n",
        "<tr><td  >7</td><td  >8</td><td  >9</td></tr>\n",
        "</table>"
       ],
       "latex": [
        "\\begin{tabular}{*{3}{l}}\n",
        "\\multicolumn{2}{l}{1} & \\multicolumn{1}{l}{3}\\\\\n",
        "\n",
        "\\multicolumn{1}{l}{4} & \\multicolumn{1}{l}{5} & \\multicolumn{1}{l}{6}\\\\\n",
        "\n",
        "\\multicolumn{1}{l}{7} & \\multicolumn{1}{l}{8} & \\multicolumn{1}{l}{9}\\\\\n",
        "\\end{tabular}"
       ],
       "metadata": {},
       "output_type": "pyout",
       "prompt_number": 4,
       "text": [
        "<__main__.Table at 0x7fdd0459beb8>"
       ]
      }
     ],
     "prompt_number": 4
    },
    {
     "cell_type": "code",
     "collapsed": false,
     "input": [
      "print(t._repr_latex_())"
     ],
     "language": "python",
     "metadata": {},
     "outputs": [
      {
       "output_type": "stream",
       "stream": "stdout",
       "text": [
        "\\begin{tabular}{*{3}{l}}\n",
        "\\multicolumn{2}{l}{1} & \\multicolumn{1}{l}{3}\\\\\n",
        "\n",
        "\\multicolumn{1}{l}{4} & \\multicolumn{1}{l}{5} & \\multicolumn{1}{l}{6}\\\\\n",
        "\n",
        "\\multicolumn{1}{l}{7} & \\multicolumn{1}{l}{8} & \\multicolumn{1}{l}{9}\\\\\n",
        "\\end{tabular}\n"
       ]
      }
     ],
     "prompt_number": 5
    },
    {
     "cell_type": "code",
     "collapsed": false,
     "input": [
      "t = Table((TableCell(1,col_span=2),2,3),\n",
      "          (4,5,6,7),\n",
      "          (8,9,10,11))\n",
      "t"
     ],
     "language": "python",
     "metadata": {},
     "outputs": [
      {
       "html": [
        "<table>\n",
        "<tr><td colspan=\"2\"  >1</td><td  >2</td><td  >3</td></tr>\n",
        "<tr><td  >4</td><td  >5</td><td  >6</td><td  >7</td></tr>\n",
        "<tr><td  >8</td><td  >9</td><td  >10</td><td  >11</td></tr>\n",
        "</table>"
       ],
       "latex": [
        "\\begin{tabular}{*{4}{l}}\n",
        "\\multicolumn{2}{l}{1} & \\multicolumn{1}{l}{2} & \\multicolumn{1}{l}{3}\\\\\n",
        "\n",
        "\\multicolumn{1}{l}{4} & \\multicolumn{1}{l}{5} & \\multicolumn{1}{l}{6} & \\multicolumn{1}{l}{7}\\\\\n",
        "\n",
        "\\multicolumn{1}{l}{8} & \\multicolumn{1}{l}{9} & \\multicolumn{1}{l}{10} & \\multicolumn{1}{l}{11}\\\\\n",
        "\\end{tabular}"
       ],
       "metadata": {},
       "output_type": "pyout",
       "prompt_number": 6,
       "text": [
        "<__main__.Table at 0x7fdd040e5898>"
       ]
      }
     ],
     "prompt_number": 6
    },
    {
     "cell_type": "code",
     "collapsed": false,
     "input": [
      "print(t._repr_latex_())"
     ],
     "language": "python",
     "metadata": {},
     "outputs": [
      {
       "output_type": "stream",
       "stream": "stdout",
       "text": [
        "\\begin{tabular}{*{4}{l}}\n",
        "\\multicolumn{2}{l}{1} & \\multicolumn{1}{l}{2} & \\multicolumn{1}{l}{3}\\\\\n",
        "\n",
        "\\multicolumn{1}{l}{4} & \\multicolumn{1}{l}{5} & \\multicolumn{1}{l}{6} & \\multicolumn{1}{l}{7}\\\\\n",
        "\n",
        "\\multicolumn{1}{l}{8} & \\multicolumn{1}{l}{9} & \\multicolumn{1}{l}{10} & \\multicolumn{1}{l}{11}\\\\\n",
        "\\end{tabular}\n"
       ]
      }
     ],
     "prompt_number": 7
    }
   ],
   "metadata": {}
  }
 ]
}